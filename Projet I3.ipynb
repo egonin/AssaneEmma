{
 "cells": [
  {
   "cell_type": "markdown",
   "id": "337b2466",
   "metadata": {},
   "source": [
    "# Avant de run le code, il est nécessaire d'installer deeplake avec \"pip install deeplake\" via le terminal de commande.\n",
    "Cette librairie nous permet d'utiliser une base de données EMNIST, constituée de caractères de toute sorte."
   ]
  },
  {
   "cell_type": "code",
   "execution_count": 1,
   "id": "4a7eda00",
   "metadata": {},
   "outputs": [],
   "source": [
    "import numpy\n",
    "import tensorflow\n",
    "import matplotlib.pyplot\n",
    "import deeplake\n",
    "from keras.layers import Conv2D, MaxPooling2D, Flatten, Dense, Activation, Dropout\n",
    "from keras.models import Sequential\n",
    "SGD = tensorflow.keras.optimizers.SGD"
   ]
  },
  {
   "cell_type": "code",
   "execution_count": 2,
   "id": "53c401d9",
   "metadata": {},
   "outputs": [
    {
     "name": "stdout",
     "output_type": "stream",
     "text": [
      "hub://activeloop/emnist-balanced-train loaded successfully.\n",
      "This dataset can be visualized in Jupyter Notebook by ds.visualize() or at https://app.activeloop.ai/activeloop/emnist-balanced-train\n",
      "hub://activeloop/emnist-balanced-test loaded successfully.\n",
      "This dataset can be visualized in Jupyter Notebook by ds.visualize() or at https://app.activeloop.ai/activeloop/emnist-balanced-test\n"
     ]
    }
   ],
   "source": [
    "ds_train = deeplake.load(\"hub://activeloop/emnist-balanced-train\")\n",
    "ds_test = deeplake.load(\"hub://activeloop/emnist-balanced-test\")"
   ]
  },
  {
   "cell_type": "code",
   "execution_count": 3,
   "id": "ad03c219",
   "metadata": {},
   "outputs": [
    {
     "name": "stdout",
     "output_type": "stream",
     "text": [
      "(112800, 28, 28)\n",
      "Les dimensions d'une image de la base de données sont :  (28, 28)\n",
      "Le nombre d'images dans la base de données est :  112800\n"
     ]
    }
   ],
   "source": [
    "X_train=ds_train.images\n",
    "Y_train=ds_train.labels\n",
    "print(X_train.shape)\n",
    "print(\"Les dimensions d'une image de la base de données Emnist balanced sont : \", X_train[2].shape)\n",
    "print(\"Le nombre d'images dans la base de données Emnist balanced est : \", len(X_train))"
   ]
  },
  {
   "cell_type": "code",
   "execution_count": 4,
   "id": "1319faae",
   "metadata": {},
   "outputs": [],
   "source": [
    "X_test=ds_test.images\n",
    "Y_test=ds_test.labels"
   ]
  },
  {
   "cell_type": "code",
   "execution_count": 5,
   "id": "aa9b6394",
   "metadata": {},
   "outputs": [
    {
     "data": {
      "text/plain": [
       "<matplotlib.image.AxesImage at 0x15571519b20>"
      ]
     },
     "execution_count": 5,
     "metadata": {},
     "output_type": "execute_result"
    },
    {
     "data": {
      "image/png": "[encoded data removed]",
      "text/plain": [
       "<Figure size 640x480 with 1 Axes>"
      ]
     },
     "metadata": {},
     "output_type": "display_data"
    }
   ],
   "source": [
    "matplotlib.pyplot.imshow(X_test[2].numpy(), cmap=matplotlib.pyplot.cm.gray)"
   ]
  },
  {
   "cell_type": "code",
   "execution_count": 6,
   "id": "7de2b29b",
   "metadata": {},
   "outputs": [
    {
     "name": "stdout",
     "output_type": "stream",
     "text": [
      "Voici la représentation numpy de la 5e image du dataset d'entrainement [[  0   0   0   0   0   0   0   0   0   0   0   0   0   0   0   0   0   0\n",
      "    0   0   0   0   0   0   0   0   0   0]\n",
      " [  0   0   0   0   0   0   0   0   0   0   0   0   0   0   0   0   0   0\n",
      "    0   0   0   0   0   0   0   0   0   0]\n",
      " [  0   0   0   0   0   0   0   0   0   0   0   0   0   0   0   0   0   0\n",
      "    0   0   0   0   0   0   0   0   0   0]\n",
      " [  0   0   0   0   0   0   0   0   0   0   0   0   0   0   0   0   0   0\n",
      "    0   0   0   0   0   0   0   0   0   0]\n",
      " [  0   0   0   0   0   0   0   0   0   0   0   0   0   0   0   0   0   0\n",
      "    0   0   0   0   0   0   0   0   0   0]\n",
      " [  0   0   0   0   0   0   0   0   0   0   0   0   3  77 125 125  77   3\n",
      "    0   0   0   0   0   0   0   0   0   0]\n",
      " [  0   0   0   0   0   0   0   0   0   0   1  34  84 220 249 249 220  78\n",
      "    7   0   0   0   0   0   0   0   0   0]\n",
      " [  0   0   0   0   0   0   0   0   0  33  96 243 252 246 222 234 253 215\n",
      "   37   0   0   0   0   0   0   0   0   0]\n",
      " [  0   0   0   0   0   0   0   0  12 190 234 254 244 128  51 101 234 217\n",
      "   39   0   4   4   4   4   3   0   0   0]\n",
      " [  0   0   0   0   0   0  10  91 207 253 247 159  47   1   0  37 217 246\n",
      "  134 127 203 217 217 217 190  47   0   0]\n",
      " [  0   0   0   0   0   8 127 221 253 244 163  22   1   0   0  37 217 254\n",
      "  236 246 253 252 233 222 246 158   2   0]\n",
      " [  0   0   0   0  22  95 244 253 246 127  33   0   0   0   1  64 222 255\n",
      "  254 234 216 172  82  55 233 202   3   0]\n",
      " [  0   0  18  51 218 251 244 175  79   1   0   0   1  46 128 244 254 246\n",
      "  175  34   5   2   0  21 210 110   0   0]\n",
      " [  0   0 108 218 252 244 127  34   3   0   0   4  36 207 246 254 254 164\n",
      "   36   0   0   0   0  31 122  22   0   0]\n",
      " [  0   1 140 224 128  46   1   0   0   3  36 202 234 251 235 249 232  22\n",
      "    0   0   0   0   0   0   2   0   0   0]\n",
      " [  0   0  32  68  10   0   0   0   1  79 175 253 251 175 106 236 171   3\n",
      "    0   0   0   0   0   0   0   0   0   0]\n",
      " [  0   0   0   0   0   0   1  33 127 245 253 187  84  12 116 207  46   0\n",
      "    0   0   0   0   0   0   0   0   0   0]\n",
      " [  0   0   0   0   0   0  47 163 244 247 208  67   4  34 175 126   8   0\n",
      "    0   0   0   0   0   0   0   0   0   0]\n",
      " [  0   0   0   0   2  12 195 247 251 163  47   2   0 114 220  34   0   0\n",
      "    0   0   0   0   0   0   0   0   0   0]\n",
      " [  0   0   0   9 158 220 250 218  95   7   0   0   8 161  58   0   0   0\n",
      "    0   0   0   0   0   0   0   0   0   0]\n",
      " [  0   0   9  91 245 253 175  79   8   0   0   0  13  69   7   0   0   0\n",
      "    0   0   0   0   0   0   0   0   0   0]\n",
      " [  0   1 145 244 188 115   8   0   0   0   0   0   0   0   0   0   0   0\n",
      "    0   0   0   0   0   0   0   0   0   0]\n",
      " [  0   0 120 200  67   6   0   0   0   0   0   0   0   0   0   0   0   0\n",
      "    0   0   0   0   0   0   0   0   0   0]\n",
      " [  0   0   2   3   0   0   0   0   0   0   0   0   0   0   0   0   0   0\n",
      "    0   0   0   0   0   0   0   0   0   0]\n",
      " [  0   0   0   0   0   0   0   0   0   0   0   0   0   0   0   0   0   0\n",
      "    0   0   0   0   0   0   0   0   0   0]\n",
      " [  0   0   0   0   0   0   0   0   0   0   0   0   0   0   0   0   0   0\n",
      "    0   0   0   0   0   0   0   0   0   0]\n",
      " [  0   0   0   0   0   0   0   0   0   0   0   0   0   0   0   0   0   0\n",
      "    0   0   0   0   0   0   0   0   0   0]\n",
      " [  0   0   0   0   0   0   0   0   0   0   0   0   0   0   0   0   0   0\n",
      "    0   0   0   0   0   0   0   0   0   0]]\n"
     ]
    },
    {
     "data": {
      "text/plain": [
       "<matplotlib.image.AxesImage at 0x15571564f40>"
      ]
     },
     "execution_count": 6,
     "metadata": {},
     "output_type": "execute_result"
    },
    {
     "data": {
      "image/png": "[encoded data removed]",
      "text/plain": [
       "<Figure size 640x480 with 1 Axes>"
      ]
     },
     "metadata": {},
     "output_type": "display_data"
    }
   ],
   "source": [
    "image_arr = X_train[4]\n",
    "print(\"Voici la représentation numpy de la 5e image du dataset d'entrainement\", image_arr.numpy())\n",
    "\n",
    "matplotlib.pyplot.imshow(image_arr, cmap=matplotlib.pyplot.cm.gray)"
   ]
  },
  {
   "cell_type": "markdown",
   "id": "d32f3f40",
   "metadata": {},
   "source": [
    "Transforme les matrices 28x28 en vecteur de 784 lignes (cellule longue à charger)"
   ]
  },
  {
   "cell_type": "code",
   "execution_count": 7,
   "id": "57f11e6f",
   "metadata": {},
   "outputs": [],
   "source": [
    "X_train=X_train.numpy()\n",
    "X_train=X_train.reshape(X_train.shape[0],784)"
   ]
  },
  {
   "cell_type": "code",
   "execution_count": 8,
   "id": "07f767a7",
   "metadata": {},
   "outputs": [],
   "source": [
    "X_test=X_test.numpy()\n",
    "X_test=X_test.reshape(X_test.shape[0],784)"
   ]
  },
  {
   "cell_type": "code",
   "execution_count": 9,
   "id": "5af52d47",
   "metadata": {},
   "outputs": [
    {
     "data": {
      "text/plain": [
       "(112800, 784)"
      ]
     },
     "execution_count": 9,
     "metadata": {},
     "output_type": "execute_result"
    }
   ],
   "source": [
    "X_train.shape"
   ]
  },
  {
   "cell_type": "code",
   "execution_count": 10,
   "id": "24d23f12",
   "metadata": {},
   "outputs": [
    {
     "data": {
      "text/plain": [
       "(18800, 784)"
      ]
     },
     "execution_count": 10,
     "metadata": {},
     "output_type": "execute_result"
    }
   ],
   "source": [
    "X_test.shape"
   ]
  },
  {
   "cell_type": "markdown",
   "id": "2f1a3948",
   "metadata": {},
   "source": [
    "Normalise les vecteurs"
   ]
  },
  {
   "cell_type": "code",
   "execution_count": 11,
   "id": "771353fb",
   "metadata": {},
   "outputs": [],
   "source": [
    "X_train =(X_train.astype('int32')-127.5)/127.5\n",
    "X_test  = (X_test.astype('int32')-127.5)/127.5"
   ]
  },
  {
   "cell_type": "code",
   "execution_count": 23,
   "id": "49254b8f",
   "metadata": {},
   "outputs": [],
   "source": [
    "dimension_entree = 784\n",
    "epoch = 50\n",
    "batchsize = 250\n",
    "taux_apprentissage = 0.005"
   ]
  },
  {
   "cell_type": "code",
   "execution_count": 24,
   "id": "c6b67f92",
   "metadata": {},
   "outputs": [
    {
     "name": "stdout",
     "output_type": "stream",
     "text": [
      "Model: \"sequential_2\"\n",
      "_________________________________________________________________\n",
      "Layer (type)                 Output Shape              Param #   \n",
      "=================================================================\n",
      "dense_8 (Dense)              (None, 250)               196250    \n",
      "_________________________________________________________________\n",
      "activation_8 (Activation)    (None, 250)               0         \n",
      "_________________________________________________________________\n",
      "dense_9 (Dense)              (None, 128)               32128     \n",
      "_________________________________________________________________\n",
      "activation_9 (Activation)    (None, 128)               0         \n",
      "_________________________________________________________________\n",
      "dense_10 (Dense)             (None, 62)                7998      \n",
      "_________________________________________________________________\n",
      "activation_10 (Activation)   (None, 62)                0         \n",
      "_________________________________________________________________\n",
      "dense_11 (Dense)             (None, 47)                2961      \n",
      "_________________________________________________________________\n",
      "activation_11 (Activation)   (None, 47)                0         \n",
      "=================================================================\n",
      "Total params: 239,337\n",
      "Trainable params: 239,337\n",
      "Non-trainable params: 0\n",
      "_________________________________________________________________\n"
     ]
    }
   ],
   "source": [
    "#Modèle de réseau de neurones avec 4 couches\n",
    "model = Sequential()\n",
    "\n",
    "model.add(Dense(250, input_shape=(dimension_entree,)))  \n",
    "model.add(Activation('sigmoid'))\n",
    "model.add(Dense(128))\n",
    "model.add(Activation('sigmoid'))\n",
    "model.add(Dense(62))\n",
    "model.add(Activation('sigmoid'))\n",
    "model.add(Dense(47))\n",
    "model.add(Activation('softmax'))\n",
    "\n",
    "model.summary()"
   ]
  },
  {
   "cell_type": "code",
   "execution_count": 25,
   "id": "f76eb3f5",
   "metadata": {},
   "outputs": [],
   "source": [
    "# Définition des hyperparamètres de l'entraînement\n",
    "sgd = SGD(lr=taux_apprentissage)\n",
    "\n",
    "model.compile(\n",
    "    loss='sparse_categorical_crossentropy', \n",
    "    optimizer='sgd', \n",
    "    metrics=['accuracy']  \n",
    ")"
   ]
  },
  {
   "cell_type": "code",
   "execution_count": 26,
   "id": "ffe2cd19",
   "metadata": {},
   "outputs": [
    {
     "name": "stdout",
     "output_type": "stream",
     "text": [
      "WARNING:tensorflow:Keras is training/fitting/evaluating on array-like data. Keras may not be optimized for this format, so if your input data format is supported by TensorFlow I/O (https://github.com/tensorflow/io) we recommend using that to load a Dataset instead.\n",
      "Epoch 1/50\n",
      "452/452 - 12s - loss: 3.8896 - accuracy: 0.0261\n",
      "Epoch 2/50\n",
      "452/452 - 11s - loss: 3.8486 - accuracy: 0.0358\n",
      "Epoch 3/50\n",
      "452/452 - 12s - loss: 3.8447 - accuracy: 0.0431\n",
      "Epoch 4/50\n",
      "452/452 - 11s - loss: 3.8422 - accuracy: 0.0540\n",
      "Epoch 5/50\n",
      "452/452 - 11s - loss: 3.8397 - accuracy: 0.0706\n",
      "Epoch 6/50\n",
      "452/452 - 11s - loss: 3.8369 - accuracy: 0.0787\n",
      "Epoch 7/50\n",
      "452/452 - 11s - loss: 3.8339 - accuracy: 0.0893\n",
      "Epoch 8/50\n",
      "452/452 - 11s - loss: 3.8306 - accuracy: 0.1079\n",
      "Epoch 9/50\n",
      "452/452 - 11s - loss: 3.8269 - accuracy: 0.1274\n",
      "Epoch 10/50\n",
      "452/452 - 11s - loss: 3.8226 - accuracy: 0.1283\n",
      "Epoch 11/50\n",
      "452/452 - 11s - loss: 3.8177 - accuracy: 0.1418\n",
      "Epoch 12/50\n",
      "452/452 - 12s - loss: 3.8119 - accuracy: 0.1504\n",
      "Epoch 13/50\n",
      "452/452 - 11s - loss: 3.8051 - accuracy: 0.1626\n",
      "Epoch 14/50\n",
      "452/452 - 12s - loss: 3.7967 - accuracy: 0.1665\n",
      "Epoch 15/50\n",
      "452/452 - 11s - loss: 3.7865 - accuracy: 0.1712\n",
      "Epoch 16/50\n",
      "452/452 - 11s - loss: 3.7737 - accuracy: 0.1558\n",
      "Epoch 17/50\n",
      "452/452 - 11s - loss: 3.7576 - accuracy: 0.1620\n",
      "Epoch 18/50\n",
      "452/452 - 12s - loss: 3.7372 - accuracy: 0.1555\n",
      "Epoch 19/50\n",
      "452/452 - 13s - loss: 3.7117 - accuracy: 0.1546\n",
      "Epoch 20/50\n",
      "452/452 - 11s - loss: 3.6807 - accuracy: 0.1436\n",
      "Epoch 21/50\n",
      "452/452 - 12s - loss: 3.6446 - accuracy: 0.1409\n",
      "Epoch 22/50\n",
      "452/452 - 11s - loss: 3.6050 - accuracy: 0.1419\n",
      "Epoch 23/50\n",
      "452/452 - 11s - loss: 3.5643 - accuracy: 0.1455\n",
      "Epoch 24/50\n",
      "452/452 - 11s - loss: 3.5243 - accuracy: 0.1449\n",
      "Epoch 25/50\n",
      "452/452 - 12s - loss: 3.4863 - accuracy: 0.1562\n",
      "Epoch 26/50\n",
      "452/452 - 12s - loss: 3.4498 - accuracy: 0.1606\n",
      "Epoch 27/50\n",
      "452/452 - 12s - loss: 3.4141 - accuracy: 0.1669\n",
      "Epoch 28/50\n",
      "452/452 - 12s - loss: 3.3776 - accuracy: 0.1725\n",
      "Epoch 29/50\n",
      "452/452 - 12s - loss: 3.3392 - accuracy: 0.1828\n",
      "Epoch 30/50\n",
      "452/452 - 12s - loss: 3.2978 - accuracy: 0.1917\n",
      "Epoch 31/50\n",
      "452/452 - 11s - loss: 3.2529 - accuracy: 0.1997\n",
      "Epoch 32/50\n",
      "452/452 - 11s - loss: 3.2049 - accuracy: 0.2105\n",
      "Epoch 33/50\n",
      "452/452 - 12s - loss: 3.1546 - accuracy: 0.2206\n",
      "Epoch 34/50\n",
      "452/452 - 12s - loss: 3.1031 - accuracy: 0.2287\n",
      "Epoch 35/50\n",
      "452/452 - 12s - loss: 3.0511 - accuracy: 0.2404\n",
      "Epoch 36/50\n",
      "452/452 - 13s - loss: 2.9992 - accuracy: 0.2488\n",
      "Epoch 37/50\n",
      "452/452 - 12s - loss: 2.9475 - accuracy: 0.2595\n",
      "Epoch 38/50\n",
      "452/452 - 12s - loss: 2.8960 - accuracy: 0.2696\n",
      "Epoch 39/50\n",
      "452/452 - 11s - loss: 2.8454 - accuracy: 0.2801\n",
      "Epoch 40/50\n",
      "452/452 - 11s - loss: 2.7959 - accuracy: 0.2892\n",
      "Epoch 41/50\n",
      "452/452 - 11s - loss: 2.7483 - accuracy: 0.2970\n",
      "Epoch 42/50\n",
      "452/452 - 11s - loss: 2.7030 - accuracy: 0.3041\n",
      "Epoch 43/50\n",
      "452/452 - 12s - loss: 2.6601 - accuracy: 0.3110\n",
      "Epoch 44/50\n",
      "452/452 - 12s - loss: 2.6198 - accuracy: 0.3158\n",
      "Epoch 45/50\n",
      "452/452 - 12s - loss: 2.5819 - accuracy: 0.3248\n",
      "Epoch 46/50\n",
      "452/452 - 12s - loss: 2.5463 - accuracy: 0.3297\n",
      "Epoch 47/50\n",
      "452/452 - 12s - loss: 2.5129 - accuracy: 0.3367\n",
      "Epoch 48/50\n",
      "452/452 - 12s - loss: 2.4815 - accuracy: 0.3437\n",
      "Epoch 49/50\n",
      "452/452 - 12s - loss: 2.4519 - accuracy: 0.3489\n",
      "Epoch 50/50\n",
      "452/452 - 12s - loss: 2.4240 - accuracy: 0.3549\n"
     ]
    }
   ],
   "source": [
    "# Entraînement\n",
    "model_train = model.fit(\n",
    "    X_train, \n",
    "    Y_train,\n",
    "    batch_size=batchsize,\n",
    "    epochs=epoch,\n",
    "    verbose=2\n",
    ")"
   ]
  },
  {
   "cell_type": "markdown",
   "id": "5601ba49",
   "metadata": {},
   "source": [
    "## La cellule suivante doit être run une seule et unique fois !!"
   ]
  },
  {
   "cell_type": "code",
   "execution_count": 31,
   "id": "29161baf",
   "metadata": {},
   "outputs": [
    {
     "name": "stdout",
     "output_type": "stream",
     "text": [
      "WARNING:tensorflow:Keras is training/fitting/evaluating on array-like data. Keras may not be optimized for this format, so if your input data format is supported by TensorFlow I/O (https://github.com/tensorflow/io) we recommend using that to load a Dataset instead.\n",
      "147/147 [==============================] - 0s 2ms/step - loss: 2.4197 - accuracy: 0.3560\n"
     ]
    }
   ],
   "source": [
    "# Test\n",
    "model_test = model.evaluate(X_test, Y_test, batch_size=128)"
   ]
  },
  {
   "cell_type": "code",
   "execution_count": 34,
   "id": "b34cb7bc",
   "metadata": {},
   "outputs": [
    {
     "data": {
      "image/png": "[encoded data removed]",
      "text/plain": [
       "<Figure size 640x480 with 1 Axes>"
      ]
     },
     "metadata": {},
     "output_type": "display_data"
    },
    {
     "data": {
      "image/png": "[encoded data removed]",
      "text/plain": [
       "<Figure size 640x480 with 1 Axes>"
      ]
     },
     "metadata": {},
     "output_type": "display_data"
    }
   ],
   "source": [
    "#On affiche les résultats\n",
    "\n",
    "#Courbe de loss\n",
    "\n",
    "epochs = range(1, epoch+1)\n",
    "\n",
    "loss_train = model_train.history[\"loss\"]\n",
    "accuracy_train = model_train.history[\"accuracy\"]\n",
    "\n",
    "\n",
    "#Courbe de loss\n",
    "matplotlib.pyplot.figure()\n",
    "matplotlib.pyplot.plot(epochs, loss_train, 'r+', label=\"Fonction de coût de l'entraînement\")\n",
    "matplotlib.pyplot.legend()\n",
    "matplotlib.pyplot.xlabel(\"epochs\")\n",
    "matplotlib.pyplot.title(\"Fonction de coût\")\n",
    "matplotlib.pyplot.show()\n",
    "\n",
    "#Courbe d'accuracy (métrique qui permet de valider le modèle)\n",
    "\n",
    "matplotlib.pyplot.figure()\n",
    "matplotlib.pyplot.plot(epochs, accuracy_train, 'r+', label=\"Accuracy de l'entraînement\")\n",
    "matplotlib.pyplot.legend()\n",
    "matplotlib.pyplot.xlabel(\"epochs\")\n",
    "matplotlib.pyplot.title(\"Accuracy\")\n",
    "matplotlib.pyplot.show()"
   ]
  }
 ],
 "metadata": {
  "kernelspec": {
   "display_name": "Python 3 (ipykernel)",
   "language": "python",
   "name": "python3"
  },
  "language_info": {
   "codemirror_mode": {
    "name": "ipython",
    "version": 3
   },
   "file_extension": ".py",
   "mimetype": "text/x-python",
   "name": "python",
   "nbconvert_exporter": "python",
   "pygments_lexer": "ipython3",
   "version": "3.8.15"
  }
 },
 "nbformat": 4,
 "nbformat_minor": 5
}
