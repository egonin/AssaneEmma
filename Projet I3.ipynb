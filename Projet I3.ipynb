{
 "cells": [
  {
   "cell_type": "markdown",
   "id": "337b2466",
   "metadata": {},
   "source": [
    "# Avant de run le code, il est nécessaire d'installer deeplake avec \"pip install deeplake\" via le terminal de commande.\n",
    "Cette librairie nous permet d'utiliser une base de données EMNIST, constituée de caractères de toute sorte."
   ]
  },
  {
   "cell_type": "code",
   "execution_count": 1,
   "id": "4a7eda00",
   "metadata": {},
   "outputs": [],
   "source": [
    "import numpy\n",
    "import tensorflow\n",
    "import matplotlib.pyplot\n",
    "import deeplake\n",
    "from keras.layers import Conv2D, MaxPooling2D, Flatten, Dense, Activation, Dropout\n",
    "from keras.models import Sequential\n",
    "SGD = tensorflow.keras.optimizers.SGD"
   ]
  },
  {
   "cell_type": "code",
   "execution_count": 2,
   "id": "53c401d9",
   "metadata": {},
   "outputs": [
    {
     "name": "stdout",
     "output_type": "stream",
     "text": [
      "hub://activeloop/emnist-balanced-train loaded successfully.\n",
      "This dataset can be visualized in Jupyter Notebook by ds.visualize() or at https://app.activeloop.ai/activeloop/emnist-balanced-train\n",
      "hub://activeloop/emnist-balanced-test loaded successfully.\n",
      "This dataset can be visualized in Jupyter Notebook by ds.visualize() or at https://app.activeloop.ai/activeloop/emnist-balanced-test\n"
     ]
    }
   ],
   "source": [
    "ds_train = deeplake.load(\"hub://activeloop/emnist-balanced-train\")\n",
    "ds_test = deeplake.load(\"hub://activeloop/emnist-balanced-test\")"
   ]
  },
  {
   "cell_type": "code",
   "execution_count": 3,
   "id": "ad03c219",
   "metadata": {},
   "outputs": [
    {
     "name": "stdout",
     "output_type": "stream",
     "text": [
      "(112800, 28, 28)\n",
      "Les dimensions d'une image de la base de données Emnist balanced sont :  (28, 28)\n",
      "Le nombre d'images dans la base de données Emnist balanced est :  112800\n"
     ]
    }
   ],
   "source": [
    "X_train=ds_train.images\n",
    "Y_train=ds_train.labels\n",
    "print(X_train.shape)\n",
    "print(\"Les dimensions d'une image de la base de données Emnist balanced sont : \", X_train[2].shape)\n",
    "print(\"Le nombre d'images dans la base de données Emnist balanced est : \", len(X_train))"
   ]
  },
  {
   "cell_type": "code",
   "execution_count": 4,
   "id": "1319faae",
   "metadata": {},
   "outputs": [],
   "source": [
    "X_test=ds_test.images\n",
    "Y_test=ds_test.labels"
   ]
  },
  {
   "cell_type": "code",
   "execution_count": 5,
   "id": "aa9b6394",
   "metadata": {},
   "outputs": [
    {
     "data": {
      "text/plain": [
       "<matplotlib.image.AxesImage at 0x1d7bd72e9d0>"
      ]
     },
     "execution_count": 5,
     "metadata": {},
     "output_type": "execute_result"
    },
    {
     "data": {
      "image/png": "[encoded data removed]",
      "text/plain": [
       "<Figure size 640x480 with 1 Axes>"
      ]
     },
     "metadata": {},
     "output_type": "display_data"
    }
   ],
   "source": [
    "matplotlib.pyplot.imshow(X_test[2].numpy(), cmap=matplotlib.pyplot.cm.gray)"
   ]
  },
  {
   "cell_type": "code",
   "execution_count": 6,
   "id": "7de2b29b",
   "metadata": {},
   "outputs": [
    {
     "name": "stdout",
     "output_type": "stream",
     "text": [
      "Voici la représentation numpy de la 5e image du dataset d'entrainement [[  0   0   0   0   0   0   0   0   0   0   0   0   0   0   0   0   0   0\n",
      "    0   0   0   0   0   0   0   0   0   0]\n",
      " [  0   0   0   0   0   0   0   0   0   0   0   0   0   0   0   0   0   0\n",
      "    0   0   0   0   0   0   0   0   0   0]\n",
      " [  0   0   0   0   0   0   0   0   0   0   0   0   0   0   0   0   0   0\n",
      "    0   0   0   0   0   0   0   0   0   0]\n",
      " [  0   0   0   0   0   0   0   0   0   0   0   0   0   0   0   0   0   0\n",
      "    0   0   0   0   0   0   0   0   0   0]\n",
      " [  0   0   0   0   0   0   0   0   0   0   0   0   0   0   0   0   0   0\n",
      "    0   0   0   0   0   0   0   0   0   0]\n",
      " [  0   0   0   0   0   0   0   0   0   0   0   0   3  77 125 125  77   3\n",
      "    0   0   0   0   0   0   0   0   0   0]\n",
      " [  0   0   0   0   0   0   0   0   0   0   1  34  84 220 249 249 220  78\n",
      "    7   0   0   0   0   0   0   0   0   0]\n",
      " [  0   0   0   0   0   0   0   0   0  33  96 243 252 246 222 234 253 215\n",
      "   37   0   0   0   0   0   0   0   0   0]\n",
      " [  0   0   0   0   0   0   0   0  12 190 234 254 244 128  51 101 234 217\n",
      "   39   0   4   4   4   4   3   0   0   0]\n",
      " [  0   0   0   0   0   0  10  91 207 253 247 159  47   1   0  37 217 246\n",
      "  134 127 203 217 217 217 190  47   0   0]\n",
      " [  0   0   0   0   0   8 127 221 253 244 163  22   1   0   0  37 217 254\n",
      "  236 246 253 252 233 222 246 158   2   0]\n",
      " [  0   0   0   0  22  95 244 253 246 127  33   0   0   0   1  64 222 255\n",
      "  254 234 216 172  82  55 233 202   3   0]\n",
      " [  0   0  18  51 218 251 244 175  79   1   0   0   1  46 128 244 254 246\n",
      "  175  34   5   2   0  21 210 110   0   0]\n",
      " [  0   0 108 218 252 244 127  34   3   0   0   4  36 207 246 254 254 164\n",
      "   36   0   0   0   0  31 122  22   0   0]\n",
      " [  0   1 140 224 128  46   1   0   0   3  36 202 234 251 235 249 232  22\n",
      "    0   0   0   0   0   0   2   0   0   0]\n",
      " [  0   0  32  68  10   0   0   0   1  79 175 253 251 175 106 236 171   3\n",
      "    0   0   0   0   0   0   0   0   0   0]\n",
      " [  0   0   0   0   0   0   1  33 127 245 253 187  84  12 116 207  46   0\n",
      "    0   0   0   0   0   0   0   0   0   0]\n",
      " [  0   0   0   0   0   0  47 163 244 247 208  67   4  34 175 126   8   0\n",
      "    0   0   0   0   0   0   0   0   0   0]\n",
      " [  0   0   0   0   2  12 195 247 251 163  47   2   0 114 220  34   0   0\n",
      "    0   0   0   0   0   0   0   0   0   0]\n",
      " [  0   0   0   9 158 220 250 218  95   7   0   0   8 161  58   0   0   0\n",
      "    0   0   0   0   0   0   0   0   0   0]\n",
      " [  0   0   9  91 245 253 175  79   8   0   0   0  13  69   7   0   0   0\n",
      "    0   0   0   0   0   0   0   0   0   0]\n",
      " [  0   1 145 244 188 115   8   0   0   0   0   0   0   0   0   0   0   0\n",
      "    0   0   0   0   0   0   0   0   0   0]\n",
      " [  0   0 120 200  67   6   0   0   0   0   0   0   0   0   0   0   0   0\n",
      "    0   0   0   0   0   0   0   0   0   0]\n",
      " [  0   0   2   3   0   0   0   0   0   0   0   0   0   0   0   0   0   0\n",
      "    0   0   0   0   0   0   0   0   0   0]\n",
      " [  0   0   0   0   0   0   0   0   0   0   0   0   0   0   0   0   0   0\n",
      "    0   0   0   0   0   0   0   0   0   0]\n",
      " [  0   0   0   0   0   0   0   0   0   0   0   0   0   0   0   0   0   0\n",
      "    0   0   0   0   0   0   0   0   0   0]\n",
      " [  0   0   0   0   0   0   0   0   0   0   0   0   0   0   0   0   0   0\n",
      "    0   0   0   0   0   0   0   0   0   0]\n",
      " [  0   0   0   0   0   0   0   0   0   0   0   0   0   0   0   0   0   0\n",
      "    0   0   0   0   0   0   0   0   0   0]]\n"
     ]
    },
    {
     "data": {
      "text/plain": [
       "<matplotlib.image.AxesImage at 0x1d7bf7b0880>"
      ]
     },
     "execution_count": 6,
     "metadata": {},
     "output_type": "execute_result"
    },
    {
     "data": {
      "image/png": "[encoded data removed]",
      "text/plain": [
       "<Figure size 640x480 with 1 Axes>"
      ]
     },
     "metadata": {},
     "output_type": "display_data"
    }
   ],
   "source": [
    "image_arr = X_train[4]\n",
    "print(\"Voici la représentation numpy de la 5e image du dataset d'entrainement\", image_arr.numpy())\n",
    "\n",
    "matplotlib.pyplot.imshow(image_arr, cmap=matplotlib.pyplot.cm.gray)"
   ]
  },
  {
   "cell_type": "markdown",
   "id": "d32f3f40",
   "metadata": {},
   "source": [
    "Transforme les matrices 28x28 en vecteur de 784 lignes (cellule longue à charger)"
   ]
  },
  {
   "cell_type": "code",
   "execution_count": 7,
   "id": "57f11e6f",
   "metadata": {},
   "outputs": [],
   "source": [
    "X_train=X_train.numpy()\n",
    "X_train=X_train.reshape(X_train.shape[0],784)"
   ]
  },
  {
   "cell_type": "code",
   "execution_count": 8,
   "id": "07f767a7",
   "metadata": {},
   "outputs": [],
   "source": [
    "X_test=X_test.numpy()\n",
    "X_test=X_test.reshape(X_test.shape[0],784)"
   ]
  },
  {
   "cell_type": "code",
   "execution_count": 9,
   "id": "5af52d47",
   "metadata": {},
   "outputs": [
    {
     "data": {
      "text/plain": [
       "(112800, 784)"
      ]
     },
     "execution_count": 9,
     "metadata": {},
     "output_type": "execute_result"
    }
   ],
   "source": [
    "X_train.shape"
   ]
  },
  {
   "cell_type": "code",
   "execution_count": 10,
   "id": "24d23f12",
   "metadata": {},
   "outputs": [
    {
     "data": {
      "text/plain": [
       "(18800, 784)"
      ]
     },
     "execution_count": 10,
     "metadata": {},
     "output_type": "execute_result"
    }
   ],
   "source": [
    "X_test.shape"
   ]
  },
  {
   "cell_type": "markdown",
   "id": "2f1a3948",
   "metadata": {},
   "source": [
    "Normalise les vecteurs"
   ]
  },
  {
   "cell_type": "code",
   "execution_count": 11,
   "id": "771353fb",
   "metadata": {},
   "outputs": [],
   "source": [
    "X_train =(X_train.astype('int32')-127.5)/127.5\n",
    "X_test  = (X_test.astype('int32')-127.5)/127.5"
   ]
  },
  {
   "cell_type": "code",
   "execution_count": 12,
   "id": "49254b8f",
   "metadata": {},
   "outputs": [],
   "source": [
    "dimension_entree = 784\n",
    "epoch = 50\n",
    "batchsize = 250\n",
    "taux_apprentissage = 0.005"
   ]
  },
  {
   "cell_type": "code",
   "execution_count": 13,
   "id": "c6b67f92",
   "metadata": {},
   "outputs": [
    {
     "name": "stdout",
     "output_type": "stream",
     "text": [
      "Model: \"sequential\"\n",
      "_________________________________________________________________\n",
      " Layer (type)                Output Shape              Param #   \n",
      "=================================================================\n",
      " dense (Dense)               (None, 250)               196250    \n",
      "                                                                 \n",
      " activation (Activation)     (None, 250)               0         \n",
      "                                                                 \n",
      " dense_1 (Dense)             (None, 128)               32128     \n",
      "                                                                 \n",
      " activation_1 (Activation)   (None, 128)               0         \n",
      "                                                                 \n",
      " dense_2 (Dense)             (None, 62)                7998      \n",
      "                                                                 \n",
      " activation_2 (Activation)   (None, 62)                0         \n",
      "                                                                 \n",
      " dense_3 (Dense)             (None, 47)                2961      \n",
      "                                                                 \n",
      " activation_3 (Activation)   (None, 47)                0         \n",
      "                                                                 \n",
      "=================================================================\n",
      "Total params: 239,337\n",
      "Trainable params: 239,337\n",
      "Non-trainable params: 0\n",
      "_________________________________________________________________\n"
     ]
    }
   ],
   "source": [
    "#Modèle de réseau de neurones avec 4 couches\n",
    "model = Sequential()\n",
    "\n",
    "model.add(Dense(250, input_shape=(dimension_entree,)))  \n",
    "model.add(Activation('sigmoid'))\n",
    "model.add(Dense(128))\n",
    "model.add(Activation('sigmoid'))\n",
    "model.add(Dense(62))\n",
    "model.add(Activation('sigmoid'))\n",
    "model.add(Dense(47))\n",
    "model.add(Activation('softmax'))\n",
    "\n",
    "model.summary()"
   ]
  },
  {
   "cell_type": "code",
   "execution_count": 14,
   "id": "f76eb3f5",
   "metadata": {},
   "outputs": [
    {
     "name": "stderr",
     "output_type": "stream",
     "text": [
      "WARNING:absl:`lr` is deprecated, please use `learning_rate` instead, or use the legacy optimizer, e.g.,tf.keras.optimizers.legacy.SGD.\n"
     ]
    }
   ],
   "source": [
    "# Définition des hyperparamètres de l'entraînement\n",
    "sgd = SGD(lr=taux_apprentissage)\n",
    "\n",
    "model.compile(\n",
    "    loss='sparse_categorical_crossentropy', \n",
    "    optimizer='sgd', \n",
    "    metrics=['accuracy']  \n",
    ")"
   ]
  },
  {
   "cell_type": "code",
   "execution_count": 16,
   "id": "ffe2cd19",
   "metadata": {},
   "outputs": [
    {
     "name": "stdout",
     "output_type": "stream",
     "text": [
      "WARNING:tensorflow:Keras is training/fitting/evaluating on array-like data. Keras may not be optimized for this format, so if your input data format is supported by TensorFlow I/O (https://github.com/tensorflow/io) we recommend using that to load a Dataset instead.\n"
     ]
    },
    {
     "name": "stderr",
     "output_type": "stream",
     "text": [
      "WARNING:tensorflow:Keras is training/fitting/evaluating on array-like data. Keras may not be optimized for this format, so if your input data format is supported by TensorFlow I/O (https://github.com/tensorflow/io) we recommend using that to load a Dataset instead.\n"
     ]
    },
    {
     "name": "stdout",
     "output_type": "stream",
     "text": [
      "Epoch 1/50\n",
      "452/452 - 32s - loss: 3.6293 - accuracy: 0.1660 - 32s/epoch - 72ms/step\n",
      "Epoch 2/50\n",
      "452/452 - 32s - loss: 3.5882 - accuracy: 0.1676 - 32s/epoch - 70ms/step\n",
      "Epoch 3/50\n",
      "452/452 - 26s - loss: 3.5456 - accuracy: 0.1752 - 26s/epoch - 58ms/step\n",
      "Epoch 4/50\n",
      "452/452 - 44s - loss: 3.5030 - accuracy: 0.1733 - 44s/epoch - 97ms/step\n",
      "Epoch 5/50\n",
      "452/452 - 37s - loss: 3.4610 - accuracy: 0.1756 - 37s/epoch - 81ms/step\n",
      "Epoch 6/50\n",
      "452/452 - 24s - loss: 3.4194 - accuracy: 0.1833 - 24s/epoch - 54ms/step\n",
      "Epoch 7/50\n",
      "452/452 - 25s - loss: 3.3770 - accuracy: 0.1884 - 25s/epoch - 56ms/step\n",
      "Epoch 8/50\n",
      "452/452 - 25s - loss: 3.3328 - accuracy: 0.1967 - 25s/epoch - 56ms/step\n",
      "Epoch 9/50\n",
      "452/452 - 25s - loss: 3.2859 - accuracy: 0.2091 - 25s/epoch - 54ms/step\n",
      "Epoch 10/50\n",
      "452/452 - 25s - loss: 3.2359 - accuracy: 0.2162 - 25s/epoch - 55ms/step\n",
      "Epoch 11/50\n",
      "452/452 - 25s - loss: 3.1833 - accuracy: 0.2251 - 25s/epoch - 55ms/step\n",
      "Epoch 12/50\n",
      "452/452 - 25s - loss: 3.1291 - accuracy: 0.2353 - 25s/epoch - 55ms/step\n",
      "Epoch 13/50\n",
      "452/452 - 25s - loss: 3.0745 - accuracy: 0.2467 - 25s/epoch - 55ms/step\n",
      "Epoch 14/50\n",
      "452/452 - 32s - loss: 3.0206 - accuracy: 0.2546 - 32s/epoch - 70ms/step\n",
      "Epoch 15/50\n",
      "452/452 - 45s - loss: 2.9681 - accuracy: 0.2656 - 45s/epoch - 99ms/step\n",
      "Epoch 16/50\n",
      "452/452 - 47s - loss: 2.9171 - accuracy: 0.2756 - 47s/epoch - 103ms/step\n",
      "Epoch 17/50\n",
      "452/452 - 47s - loss: 2.8679 - accuracy: 0.2845 - 47s/epoch - 104ms/step\n",
      "Epoch 18/50\n",
      "452/452 - 47s - loss: 2.8203 - accuracy: 0.2948 - 47s/epoch - 103ms/step\n",
      "Epoch 19/50\n",
      "452/452 - 47s - loss: 2.7745 - accuracy: 0.3034 - 47s/epoch - 104ms/step\n",
      "Epoch 20/50\n",
      "452/452 - 38s - loss: 2.7301 - accuracy: 0.3124 - 38s/epoch - 84ms/step\n",
      "Epoch 21/50\n",
      "452/452 - 44s - loss: 2.6873 - accuracy: 0.3221 - 44s/epoch - 98ms/step\n",
      "Epoch 22/50\n",
      "452/452 - 40s - loss: 2.6458 - accuracy: 0.3288 - 40s/epoch - 89ms/step\n",
      "Epoch 23/50\n",
      "452/452 - 47s - loss: 2.6056 - accuracy: 0.3396 - 47s/epoch - 104ms/step\n",
      "Epoch 24/50\n",
      "452/452 - 47s - loss: 2.5665 - accuracy: 0.3460 - 47s/epoch - 105ms/step\n",
      "Epoch 25/50\n",
      "452/452 - 46s - loss: 2.5286 - accuracy: 0.3563 - 46s/epoch - 102ms/step\n",
      "Epoch 26/50\n",
      "452/452 - 47s - loss: 2.4918 - accuracy: 0.3646 - 47s/epoch - 105ms/step\n",
      "Epoch 27/50\n",
      "452/452 - 47s - loss: 2.4563 - accuracy: 0.3717 - 47s/epoch - 104ms/step\n",
      "Epoch 28/50\n",
      "452/452 - 46s - loss: 2.4221 - accuracy: 0.3796 - 46s/epoch - 103ms/step\n",
      "Epoch 29/50\n",
      "452/452 - 34s - loss: 2.3892 - accuracy: 0.3868 - 34s/epoch - 75ms/step\n",
      "Epoch 30/50\n",
      "452/452 - 61s - loss: 2.3576 - accuracy: 0.3937 - 61s/epoch - 136ms/step\n",
      "Epoch 31/50\n",
      "452/452 - 43s - loss: 2.3273 - accuracy: 0.4011 - 43s/epoch - 95ms/step\n",
      "Epoch 32/50\n",
      "452/452 - 33s - loss: 2.2984 - accuracy: 0.4058 - 33s/epoch - 73ms/step\n",
      "Epoch 33/50\n",
      "452/452 - 25s - loss: 2.2706 - accuracy: 0.4118 - 25s/epoch - 54ms/step\n",
      "Epoch 34/50\n",
      "452/452 - 25s - loss: 2.2440 - accuracy: 0.4176 - 25s/epoch - 55ms/step\n",
      "Epoch 35/50\n",
      "452/452 - 25s - loss: 2.2185 - accuracy: 0.4226 - 25s/epoch - 55ms/step\n",
      "Epoch 36/50\n",
      "452/452 - 25s - loss: 2.1940 - accuracy: 0.4273 - 25s/epoch - 56ms/step\n",
      "Epoch 37/50\n",
      "452/452 - 26s - loss: 2.1705 - accuracy: 0.4326 - 26s/epoch - 58ms/step\n",
      "Epoch 38/50\n",
      "452/452 - 24s - loss: 2.1477 - accuracy: 0.4373 - 24s/epoch - 54ms/step\n",
      "Epoch 39/50\n",
      "452/452 - 27s - loss: 2.1257 - accuracy: 0.4415 - 27s/epoch - 59ms/step\n",
      "Epoch 40/50\n",
      "452/452 - 25s - loss: 2.1044 - accuracy: 0.4466 - 25s/epoch - 56ms/step\n",
      "Epoch 41/50\n",
      "452/452 - 26s - loss: 2.0837 - accuracy: 0.4506 - 26s/epoch - 57ms/step\n",
      "Epoch 42/50\n",
      "452/452 - 25s - loss: 2.0635 - accuracy: 0.4553 - 25s/epoch - 54ms/step\n",
      "Epoch 43/50\n",
      "452/452 - 25s - loss: 2.0437 - accuracy: 0.4590 - 25s/epoch - 55ms/step\n",
      "Epoch 44/50\n",
      "452/452 - 25s - loss: 2.0246 - accuracy: 0.4639 - 25s/epoch - 56ms/step\n",
      "Epoch 45/50\n",
      "452/452 - 24s - loss: 2.0057 - accuracy: 0.4682 - 24s/epoch - 53ms/step\n",
      "Epoch 46/50\n",
      "452/452 - 25s - loss: 1.9873 - accuracy: 0.4723 - 25s/epoch - 56ms/step\n",
      "Epoch 47/50\n",
      "452/452 - 25s - loss: 1.9693 - accuracy: 0.4765 - 25s/epoch - 56ms/step\n",
      "Epoch 48/50\n",
      "452/452 - 24s - loss: 1.9516 - accuracy: 0.4814 - 24s/epoch - 54ms/step\n",
      "Epoch 49/50\n",
      "452/452 - 25s - loss: 1.9341 - accuracy: 0.4849 - 25s/epoch - 55ms/step\n",
      "Epoch 50/50\n",
      "452/452 - 25s - loss: 1.9171 - accuracy: 0.4892 - 25s/epoch - 55ms/step\n"
     ]
    }
   ],
   "source": [
    "# Entraînement\n",
    "model_train = model.fit(\n",
    "    X_train, \n",
    "    Y_train,\n",
    "    batch_size=batchsize,\n",
    "    epochs=epoch,\n",
    "    verbose=2\n",
    ")"
   ]
  },
  {
   "cell_type": "markdown",
   "id": "5601ba49",
   "metadata": {},
   "source": [
    "## La cellule suivante doit être run une seule et unique fois !!"
   ]
  },
  {
   "cell_type": "code",
   "execution_count": 17,
   "id": "29161baf",
   "metadata": {},
   "outputs": [
    {
     "name": "stdout",
     "output_type": "stream",
     "text": [
      "WARNING:tensorflow:Keras is training/fitting/evaluating on array-like data. Keras may not be optimized for this format, so if your input data format is supported by TensorFlow I/O (https://github.com/tensorflow/io) we recommend using that to load a Dataset instead.\n"
     ]
    },
    {
     "name": "stderr",
     "output_type": "stream",
     "text": [
      "WARNING:tensorflow:Keras is training/fitting/evaluating on array-like data. Keras may not be optimized for this format, so if your input data format is supported by TensorFlow I/O (https://github.com/tensorflow/io) we recommend using that to load a Dataset instead.\n"
     ]
    },
    {
     "name": "stdout",
     "output_type": "stream",
     "text": [
      "147/147 [==============================] - 2s 3ms/step - loss: 1.9239 - accuracy: 0.4901\n"
     ]
    }
   ],
   "source": [
    "# Test\n",
    "model_test = model.evaluate(X_test, Y_test, batch_size=128)"
   ]
  },
  {
   "cell_type": "code",
   "execution_count": 21,
   "id": "b34cb7bc",
   "metadata": {},
   "outputs": [
    {
     "data": {
      "image/png": "[encoded data removed]",
      "text/plain": [
       "<Figure size 640x480 with 1 Axes>"
      ]
     },
     "metadata": {},
     "output_type": "display_data"
    },
    {
     "data": {
      "image/png": "[encoded data removed]",
      "text/plain": [
       "<Figure size 640x480 with 1 Axes>"
      ]
     },
     "metadata": {},
     "output_type": "display_data"
    }
   ],
   "source": [
    "#On affiche les résultats\n",
    "\n",
    "#Courbe de loss\n",
    "\n",
    "epochs = range(1, epoch+1)\n",
    "\n",
    "loss_train = model_train.history[\"loss\"]\n",
    "accuracy_train = model_train.history[\"accuracy\"]\n",
    "\n",
    "\n",
    "#Courbe de loss\n",
    "matplotlib.pyplot.figure()\n",
    "matplotlib.pyplot.plot(epochs, loss_train, 'r+', label=\"Fonction de coût de l'entraînement\")\n",
    "matplotlib.pyplot.legend()\n",
    "matplotlib.pyplot.xlabel(\"epochs\")\n",
    "matplotlib.pyplot.title(\"Fonction de coût\")\n",
    "matplotlib.pyplot.show()\n",
    "\n",
    "#Courbe d'accuracy (métrique qui permet de valider le modèle)\n",
    "\n",
    "matplotlib.pyplot.figure()\n",
    "matplotlib.pyplot.plot(epochs, accuracy_train, 'r+', label=\"Accuracy de l'entraînement\")\n",
    "matplotlib.pyplot.legend()\n",
    "matplotlib.pyplot.xlabel(\"epochs\")\n",
    "matplotlib.pyplot.title(\"Accuracy\")\n",
    "matplotlib.pyplot.show()"
   ]
  },
  {
   "attachments": {},
   "cell_type": "markdown",
   "id": "4084fff9",
   "metadata": {},
   "source": [
    "# Prédictions avec le modèle"
   ]
  },
  {
   "cell_type": "code",
   "execution_count": 41,
   "id": "17f19f41",
   "metadata": {},
   "outputs": [
    {
     "data": {
      "text/plain": [
       "36"
      ]
     },
     "execution_count": 41,
     "metadata": {},
     "output_type": "execute_result"
    }
   ],
   "source": [
    "labels = [\"0\", \"1\", \"2\", \"3\", \"4\", \"5\", \"6\", \"7\", \"8\", \"9\", \"a\", \"b\", \"c\", \"d\", \"e\", \"f\", \"g\", \"h\", \"i\", \"j\", \"k\", \"l\",\n",
    "\"m\", \"n\", \"o\", \"p\", \"q\", \"r\", \"s\", \"t\", \"u\", \"v\", \"w\", \"x\", \"y\", \"z\"]\n",
    "len(labels)"
   ]
  },
  {
   "cell_type": "code",
   "execution_count": 22,
   "id": "b55b3d57",
   "metadata": {},
   "outputs": [
    {
     "name": "stdout",
     "output_type": "stream",
     "text": [
      "588/588 [==============================] - 1s 1ms/step\n"
     ]
    },
    {
     "data": {
      "text/plain": [
       "array([[7.5760442e-03, 3.8584153e-04, 1.1678892e-02, ..., 5.2482564e-02,\n",
       "        9.2000926e-05, 1.5533088e-03],\n",
       "       [8.1923507e-02, 9.3938161e-06, 1.0133550e-03, ..., 1.4059701e-02,\n",
       "        1.9164504e-02, 1.0920404e-03],\n",
       "       [1.3750742e-04, 8.8458491e-04, 2.1917021e-04, ..., 1.4340079e-01,\n",
       "        1.0322621e-03, 8.7499805e-03],\n",
       "       ...,\n",
       "       [3.0622780e-06, 2.3463824e-01, 2.7074751e-03, ..., 4.6951170e-03,\n",
       "        9.0737629e-04, 6.8557352e-02],\n",
       "       [6.7143135e-02, 1.8421370e-05, 6.3360953e-03, ..., 1.6377972e-02,\n",
       "        1.1322877e-04, 3.5991857e-04],\n",
       "       [2.5620227e-05, 2.4544217e-02, 1.3370014e-03, ..., 1.5004201e-02,\n",
       "        1.1118487e-02, 8.3279915e-02]], dtype=float32)"
      ]
     },
     "execution_count": 22,
     "metadata": {},
     "output_type": "execute_result"
    }
   ],
   "source": [
    "predictions = model.predict(X_test)\n",
    "predictions"
   ]
  },
  {
   "cell_type": "code",
   "execution_count": 59,
   "id": "a825167e",
   "metadata": {},
   "outputs": [
    {
     "data": {
      "text/plain": [
       "41"
      ]
     },
     "execution_count": 59,
     "metadata": {},
     "output_type": "execute_result"
    }
   ],
   "source": [
    "test_labels = ds_test.labels.numpy()\n",
    "test_labels.shape\n",
    "test_labels[0][0]"
   ]
  },
  {
   "cell_type": "code",
   "execution_count": 60,
   "id": "b52fce5d",
   "metadata": {},
   "outputs": [
    {
     "ename": "IndexError",
     "evalue": "list index out of range",
     "output_type": "error",
     "traceback": [
      "\u001b[1;31m---------------------------------------------------------------------------\u001b[0m",
      "\u001b[1;31mIndexError\u001b[0m                                Traceback (most recent call last)",
      "Cell \u001b[1;32mIn [60], line 4\u001b[0m\n\u001b[0;32m      2\u001b[0m \u001b[39mfor\u001b[39;00m i \u001b[39min\u001b[39;00m \u001b[39mrange\u001b[39m(\u001b[39m25\u001b[39m):\n\u001b[0;32m      3\u001b[0m     label \u001b[39m=\u001b[39m numpy\u001b[39m.\u001b[39margmax(predictions[i])\n\u001b[1;32m----> 4\u001b[0m     \u001b[39mprint\u001b[39m(labels[test_labels[i][\u001b[39m0\u001b[39;49m]])\n\u001b[0;32m      5\u001b[0m     ax \u001b[39m=\u001b[39m fig\u001b[39m.\u001b[39madd_subplot(\u001b[39m5\u001b[39m, \u001b[39m5\u001b[39m, i \u001b[39m+\u001b[39m \u001b[39m1\u001b[39m)\n\u001b[0;32m      6\u001b[0m     ax\u001b[39m.\u001b[39mimshow(ds_test\u001b[39m.\u001b[39mimages[i], cmap\u001b[39m=\u001b[39m\u001b[39m\"\u001b[39m\u001b[39mgray\u001b[39m\u001b[39m\"\u001b[39m)\n",
      "\u001b[1;31mIndexError\u001b[0m: list index out of range"
     ]
    },
    {
     "data": {
      "text/plain": [
       "<Figure size 640x480 with 0 Axes>"
      ]
     },
     "metadata": {},
     "output_type": "display_data"
    }
   ],
   "source": [
    "fig = matplotlib.pyplot.figure()\n",
    "for i in range(25):\n",
    "    label = numpy.argmax(predictions[i])\n",
    "    print(labels[test_labels[i][0]])\n",
    "    ax = fig.add_subplot(5, 5, i + 1)\n",
    "    ax.imshow(ds_test.images[i], cmap=\"gray\")"
   ]
  }
 ],
 "metadata": {
  "kernelspec": {
   "display_name": "Python 3",
   "language": "python",
   "name": "python3"
  },
  "language_info": {
   "codemirror_mode": {
    "name": "ipython",
    "version": 3
   },
   "file_extension": ".py",
   "mimetype": "text/x-python",
   "name": "python",
   "nbconvert_exporter": "python",
   "pygments_lexer": "ipython3",
   "version": "3.9.7 (tags/v3.9.7:1016ef3, Aug 30 2021, 20:19:38) [MSC v.1929 64 bit (AMD64)]"
  },
  "vscode": {
   "interpreter": {
    "hash": "8224d90cef41d2204c558591c48c5d52fcdaf482d6b9f47fdab7fb8923abaf36"
   }
  }
 },
 "nbformat": 4,
 "nbformat_minor": 5
}
