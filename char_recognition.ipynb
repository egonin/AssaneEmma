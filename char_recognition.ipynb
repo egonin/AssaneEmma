{
 "cells": [
  {
   "attachments": {},
   "cell_type": "markdown",
   "metadata": {},
   "source": [
    "# Reconnaissance de caractères\n",
    "*Par Assane et Emma*"
   ]
  }
 ],
 "metadata": {
  "kernelspec": {
   "display_name": "Python 3",
   "language": "python",
   "name": "python3"
  },
  "language_info": {
   "name": "python",
   "version": "3.9.7 (tags/v3.9.7:1016ef3, Aug 30 2021, 20:19:38) [MSC v.1929 64 bit (AMD64)]"
  },
  "orig_nbformat": 4,
  "vscode": {
   "interpreter": {
    "hash": "8224d90cef41d2204c558591c48c5d52fcdaf482d6b9f47fdab7fb8923abaf36"
   }
  }
 },
 "nbformat": 4,
 "nbformat_minor": 2
}
